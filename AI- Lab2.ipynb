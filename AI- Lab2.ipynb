{
  "cells": [
    {
      "cell_type": "markdown",
      "id": "0ac5a44e-d92b-4271-99b8-cad33573cbe1",
      "metadata": {
        "id": "0ac5a44e-d92b-4271-99b8-cad33573cbe1"
      },
      "source": [
        "# Laboratory 2 - Introduction to Artificial Intelligence Class\n",
        "\n",
        "This is an introductory exercise for you to learn about using the basics of data preprocessing.\n",
        "\n",
        "Each question has a value of 1 point\n",
        "\n",
        "For this laboratory each exercise you have to develop your own answer, put the correct answer in the cell where is the comment # YOUR CODE HERE / # YOUR ANSWER HERE\n",
        "\n",
        "Do not use/add another cell. You can add more cells for question 3"
      ]
    },
    {
      "cell_type": "markdown",
      "id": "f87de19d-e31a-4d0f-b529-8e2b355f2ad0",
      "metadata": {
        "id": "f87de19d-e31a-4d0f-b529-8e2b355f2ad0"
      },
      "source": [
        "### About the dataset:\n",
        "\n",
        "#### The Behavioral Risk Factor Surveillance System (BRFSS) is the nation's premier system of health-related telephone surveys that collect state data about U.S. residents regarding their: \n",
        "* health-related risk behaviors, \n",
        "* chronic health conditions, \n",
        "* and use of preventive services. \n"
      ]
    },
    {
      "cell_type": "markdown",
      "id": "6a279670-3008-46e5-88c6-30be47bd81ce",
      "metadata": {
        "id": "6a279670-3008-46e5-88c6-30be47bd81ce"
      },
      "source": [
        "## Write your basic information\n",
        " * Full Name: Carlos Geûens Alvarez \n",
        " * Student ID: 202120013\n",
        " * GitHub ID: Geuens\n",
        " * Date:3/21/2022\n"
      ]
    },
    {
      "cell_type": "markdown",
      "id": "43f72978-97b6-4057-a2ba-f1b3db687eeb",
      "metadata": {
        "id": "43f72978-97b6-4057-a2ba-f1b3db687eeb"
      },
      "source": [
        "## Question 1: Load the requeried/needed libraries."
      ]
    },
    {
      "cell_type": "code",
      "execution_count": null,
      "id": "39f73eec-e191-45e3-b302-efe4c883fd6b",
      "metadata": {
        "id": "39f73eec-e191-45e3-b302-efe4c883fd6b"
      },
      "outputs": [],
      "source": [
        "# YOUR CODE HERE\n",
        "\n",
        "import pandas as pd\n",
        "import numpy as np\n",
        "import matplotlib.pyplot as plt\n",
        "from google.colab import drive\n"
      ]
    },
    {
      "cell_type": "markdown",
      "id": "dd4fe3e8-a90e-44d5-93f3-efd8d65b9861",
      "metadata": {
        "id": "dd4fe3e8-a90e-44d5-93f3-efd8d65b9861"
      },
      "source": [
        "## Question 2: Download the brfss.csv file and load it to your google drive, Google Collab and your python module."
      ]
    },
    {
      "cell_type": "code",
      "execution_count": null,
      "id": "70e9a3f7-f512-4fd3-a053-bc856aec0bf4",
      "metadata": {
        "colab": {
          "base_uri": "https://localhost:8080/"
        },
        "id": "70e9a3f7-f512-4fd3-a053-bc856aec0bf4",
        "outputId": "801d1fb1-53fb-4fe4-a8fc-456efbba5d7c"
      },
      "outputs": [
        {
          "output_type": "stream",
          "name": "stdout",
          "text": [
            "Drive already mounted at /content/drive; to attempt to forcibly remount, call drive.mount(\"/content/drive\", force_remount=True).\n"
          ]
        }
      ],
      "source": [
        "# Step 1: Connect google collab with google drive\n",
        "# YOUR CODE HERE\n",
        "drive.mount('/content/drive')\n"
      ]
    },
    {
      "cell_type": "code",
      "execution_count": null,
      "id": "255f363c-4f05-4671-899e-21963539fa89",
      "metadata": {
        "id": "255f363c-4f05-4671-899e-21963539fa89"
      },
      "outputs": [],
      "source": [
        "# Step 2: load your dataset to a dataframe\n",
        "# YOUR CODE HERE\n",
        "\n",
        "df=pd.read_csv('/content/drive/MyDrive/Colab Notebooks/brfss.csv', index_col=0)\n"
      ]
    },
    {
      "cell_type": "markdown",
      "id": "192bcca9-d657-40dc-b2ca-3a5d01d46573",
      "metadata": {
        "id": "192bcca9-d657-40dc-b2ca-3a5d01d46573"
      },
      "source": [
        "## Question 3: Display the content and observe the data more than 3 different visualizations (insert more visualizations if you think are necessary)\n"
      ]
    },
    {
      "cell_type": "code",
      "source": [
        "# YOUR CODE HERE\n",
        "#first we check content of datframe and types of vatuables\n",
        "print('Dataset')\n",
        "df.head()\n"
      ],
      "metadata": {
        "colab": {
          "base_uri": "https://localhost:8080/",
          "height": 223
        },
        "id": "mWHXoE5d__UX",
        "outputId": "e13c9f83-67f2-4350-b9c1-7369e5348571"
      },
      "id": "mWHXoE5d__UX",
      "execution_count": null,
      "outputs": [
        {
          "output_type": "stream",
          "name": "stdout",
          "text": [
            "Dataset\n"
          ]
        },
        {
          "output_type": "execute_result",
          "data": {
            "text/plain": [
              "    age     weight2     wtyrago   wtkg2   htm3  sex\n",
              "0  39.0   88.636364   88.636364   88.64  180.0  1.0\n",
              "1  64.0   75.000000   84.545455   75.00  155.0  2.0\n",
              "2  87.0   61.818182   63.636364   61.82    NaN  2.0\n",
              "3  51.0  100.000000  100.000000  100.00  183.0  1.0\n",
              "4  35.0   63.636364   61.363636   63.64  170.0  2.0"
            ],
            "text/html": [
              "\n",
              "  <div id=\"df-e7007e0b-055a-4944-93d4-7ea5993d3299\">\n",
              "    <div class=\"colab-df-container\">\n",
              "      <div>\n",
              "<style scoped>\n",
              "    .dataframe tbody tr th:only-of-type {\n",
              "        vertical-align: middle;\n",
              "    }\n",
              "\n",
              "    .dataframe tbody tr th {\n",
              "        vertical-align: top;\n",
              "    }\n",
              "\n",
              "    .dataframe thead th {\n",
              "        text-align: right;\n",
              "    }\n",
              "</style>\n",
              "<table border=\"1\" class=\"dataframe\">\n",
              "  <thead>\n",
              "    <tr style=\"text-align: right;\">\n",
              "      <th></th>\n",
              "      <th>age</th>\n",
              "      <th>weight2</th>\n",
              "      <th>wtyrago</th>\n",
              "      <th>wtkg2</th>\n",
              "      <th>htm3</th>\n",
              "      <th>sex</th>\n",
              "    </tr>\n",
              "  </thead>\n",
              "  <tbody>\n",
              "    <tr>\n",
              "      <th>0</th>\n",
              "      <td>39.0</td>\n",
              "      <td>88.636364</td>\n",
              "      <td>88.636364</td>\n",
              "      <td>88.64</td>\n",
              "      <td>180.0</td>\n",
              "      <td>1.0</td>\n",
              "    </tr>\n",
              "    <tr>\n",
              "      <th>1</th>\n",
              "      <td>64.0</td>\n",
              "      <td>75.000000</td>\n",
              "      <td>84.545455</td>\n",
              "      <td>75.00</td>\n",
              "      <td>155.0</td>\n",
              "      <td>2.0</td>\n",
              "    </tr>\n",
              "    <tr>\n",
              "      <th>2</th>\n",
              "      <td>87.0</td>\n",
              "      <td>61.818182</td>\n",
              "      <td>63.636364</td>\n",
              "      <td>61.82</td>\n",
              "      <td>NaN</td>\n",
              "      <td>2.0</td>\n",
              "    </tr>\n",
              "    <tr>\n",
              "      <th>3</th>\n",
              "      <td>51.0</td>\n",
              "      <td>100.000000</td>\n",
              "      <td>100.000000</td>\n",
              "      <td>100.00</td>\n",
              "      <td>183.0</td>\n",
              "      <td>1.0</td>\n",
              "    </tr>\n",
              "    <tr>\n",
              "      <th>4</th>\n",
              "      <td>35.0</td>\n",
              "      <td>63.636364</td>\n",
              "      <td>61.363636</td>\n",
              "      <td>63.64</td>\n",
              "      <td>170.0</td>\n",
              "      <td>2.0</td>\n",
              "    </tr>\n",
              "  </tbody>\n",
              "</table>\n",
              "</div>\n",
              "      <button class=\"colab-df-convert\" onclick=\"convertToInteractive('df-e7007e0b-055a-4944-93d4-7ea5993d3299')\"\n",
              "              title=\"Convert this dataframe to an interactive table.\"\n",
              "              style=\"display:none;\">\n",
              "        \n",
              "  <svg xmlns=\"http://www.w3.org/2000/svg\" height=\"24px\"viewBox=\"0 0 24 24\"\n",
              "       width=\"24px\">\n",
              "    <path d=\"M0 0h24v24H0V0z\" fill=\"none\"/>\n",
              "    <path d=\"M18.56 5.44l.94 2.06.94-2.06 2.06-.94-2.06-.94-.94-2.06-.94 2.06-2.06.94zm-11 1L8.5 8.5l.94-2.06 2.06-.94-2.06-.94L8.5 2.5l-.94 2.06-2.06.94zm10 10l.94 2.06.94-2.06 2.06-.94-2.06-.94-.94-2.06-.94 2.06-2.06.94z\"/><path d=\"M17.41 7.96l-1.37-1.37c-.4-.4-.92-.59-1.43-.59-.52 0-1.04.2-1.43.59L10.3 9.45l-7.72 7.72c-.78.78-.78 2.05 0 2.83L4 21.41c.39.39.9.59 1.41.59.51 0 1.02-.2 1.41-.59l7.78-7.78 2.81-2.81c.8-.78.8-2.07 0-2.86zM5.41 20L4 18.59l7.72-7.72 1.47 1.35L5.41 20z\"/>\n",
              "  </svg>\n",
              "      </button>\n",
              "      \n",
              "  <style>\n",
              "    .colab-df-container {\n",
              "      display:flex;\n",
              "      flex-wrap:wrap;\n",
              "      gap: 12px;\n",
              "    }\n",
              "\n",
              "    .colab-df-convert {\n",
              "      background-color: #E8F0FE;\n",
              "      border: none;\n",
              "      border-radius: 50%;\n",
              "      cursor: pointer;\n",
              "      display: none;\n",
              "      fill: #1967D2;\n",
              "      height: 32px;\n",
              "      padding: 0 0 0 0;\n",
              "      width: 32px;\n",
              "    }\n",
              "\n",
              "    .colab-df-convert:hover {\n",
              "      background-color: #E2EBFA;\n",
              "      box-shadow: 0px 1px 2px rgba(60, 64, 67, 0.3), 0px 1px 3px 1px rgba(60, 64, 67, 0.15);\n",
              "      fill: #174EA6;\n",
              "    }\n",
              "\n",
              "    [theme=dark] .colab-df-convert {\n",
              "      background-color: #3B4455;\n",
              "      fill: #D2E3FC;\n",
              "    }\n",
              "\n",
              "    [theme=dark] .colab-df-convert:hover {\n",
              "      background-color: #434B5C;\n",
              "      box-shadow: 0px 1px 3px 1px rgba(0, 0, 0, 0.15);\n",
              "      filter: drop-shadow(0px 1px 2px rgba(0, 0, 0, 0.3));\n",
              "      fill: #FFFFFF;\n",
              "    }\n",
              "  </style>\n",
              "\n",
              "      <script>\n",
              "        const buttonEl =\n",
              "          document.querySelector('#df-e7007e0b-055a-4944-93d4-7ea5993d3299 button.colab-df-convert');\n",
              "        buttonEl.style.display =\n",
              "          google.colab.kernel.accessAllowed ? 'block' : 'none';\n",
              "\n",
              "        async function convertToInteractive(key) {\n",
              "          const element = document.querySelector('#df-e7007e0b-055a-4944-93d4-7ea5993d3299');\n",
              "          const dataTable =\n",
              "            await google.colab.kernel.invokeFunction('convertToInteractive',\n",
              "                                                     [key], {});\n",
              "          if (!dataTable) return;\n",
              "\n",
              "          const docLinkHtml = 'Like what you see? Visit the ' +\n",
              "            '<a target=\"_blank\" href=https://colab.research.google.com/notebooks/data_table.ipynb>data table notebook</a>'\n",
              "            + ' to learn more about interactive tables.';\n",
              "          element.innerHTML = '';\n",
              "          dataTable['output_type'] = 'display_data';\n",
              "          await google.colab.output.renderOutput(dataTable, element);\n",
              "          const docLink = document.createElement('div');\n",
              "          docLink.innerHTML = docLinkHtml;\n",
              "          element.appendChild(docLink);\n",
              "        }\n",
              "      </script>\n",
              "    </div>\n",
              "  </div>\n",
              "  "
            ]
          },
          "metadata": {},
          "execution_count": 4
        }
      ]
    },
    {
      "cell_type": "code",
      "source": [
        "# YOUR CODE HERE\n",
        "df.shape"
      ],
      "metadata": {
        "colab": {
          "base_uri": "https://localhost:8080/"
        },
        "id": "RtIZGkem__G3",
        "outputId": "57b4dd43-66e3-450c-f126-4579d6088df1"
      },
      "id": "RtIZGkem__G3",
      "execution_count": null,
      "outputs": [
        {
          "output_type": "execute_result",
          "data": {
            "text/plain": [
              "(213219, 6)"
            ]
          },
          "metadata": {},
          "execution_count": 5
        }
      ]
    },
    {
      "cell_type": "code",
      "execution_count": null,
      "id": "e3b6a5a5-9794-4172-9050-94ecafea33ee",
      "metadata": {
        "colab": {
          "base_uri": "https://localhost:8080/"
        },
        "id": "e3b6a5a5-9794-4172-9050-94ecafea33ee",
        "outputId": "cd010401-c59a-4f54-cfa7-dea8212374b1"
      },
      "outputs": [
        {
          "output_type": "execute_result",
          "data": {
            "text/plain": [
              "age        float64\n",
              "weight2    float64\n",
              "wtyrago    float64\n",
              "wtkg2      float64\n",
              "htm3       float64\n",
              "sex        float64\n",
              "dtype: object"
            ]
          },
          "metadata": {},
          "execution_count": 6
        }
      ],
      "source": [
        "# YOUR CODE HERE\n",
        "df.dtypes"
      ]
    },
    {
      "cell_type": "code",
      "execution_count": null,
      "id": "dade5f14-4d3b-4b7c-b69e-0e0d025b2769",
      "metadata": {
        "colab": {
          "base_uri": "https://localhost:8080/"
        },
        "id": "dade5f14-4d3b-4b7c-b69e-0e0d025b2769",
        "outputId": "573e0008-7c8f-4c1f-b726-181f720fc38a"
      },
      "outputs": [
        {
          "output_type": "stream",
          "name": "stdout",
          "text": [
            "<class 'pandas.core.frame.DataFrame'>\n",
            "Int64Index: 213219 entries, 0 to 213218\n",
            "Data columns (total 6 columns):\n",
            " #   Column   Non-Null Count   Dtype  \n",
            "---  ------   --------------   -----  \n",
            " 0   age      211419 non-null  float64\n",
            " 1   weight2  205168 non-null  float64\n",
            " 2   wtyrago  201284 non-null  float64\n",
            " 3   wtkg2    205167 non-null  float64\n",
            " 4   htm3     210515 non-null  float64\n",
            " 5   sex      213218 non-null  float64\n",
            "dtypes: float64(6)\n",
            "memory usage: 11.4 MB\n"
          ]
        }
      ],
      "source": [
        "# YOUR CODE HERE\n",
        "df.info()"
      ]
    },
    {
      "cell_type": "code",
      "source": [
        "#once we understood the datafram we visualise it\n",
        "from pandas.plotting import scatter_matrix\n",
        "\n",
        "scatter_matrix(df[['age','weight2','wtyrago','htm3']])"
      ],
      "metadata": {
        "colab": {
          "base_uri": "https://localhost:8080/",
          "height": 582
        },
        "id": "GYgVB1R8CoeM",
        "outputId": "fd273edf-ac50-48c6-9214-c31a1438d45c"
      },
      "id": "GYgVB1R8CoeM",
      "execution_count": null,
      "outputs": [
        {
          "output_type": "execute_result",
          "data": {
            "text/plain": [
              "array([[<matplotlib.axes._subplots.AxesSubplot object at 0x7f8d4f3ec110>,\n",
              "        <matplotlib.axes._subplots.AxesSubplot object at 0x7f8d4f3be790>,\n",
              "        <matplotlib.axes._subplots.AxesSubplot object at 0x7f8d4f379d90>,\n",
              "        <matplotlib.axes._subplots.AxesSubplot object at 0x7f8d4f33e3d0>],\n",
              "       [<matplotlib.axes._subplots.AxesSubplot object at 0x7f8d4f2f59d0>,\n",
              "        <matplotlib.axes._subplots.AxesSubplot object at 0x7f8d4f2a1b10>,\n",
              "        <matplotlib.axes._subplots.AxesSubplot object at 0x7f8d4f26d690>,\n",
              "        <matplotlib.axes._subplots.AxesSubplot object at 0x7f8d4f224bd0>],\n",
              "       [<matplotlib.axes._subplots.AxesSubplot object at 0x7f8d4f224c10>,\n",
              "        <matplotlib.axes._subplots.AxesSubplot object at 0x7f8d4f1e62d0>,\n",
              "        <matplotlib.axes._subplots.AxesSubplot object at 0x7f8d4f153dd0>,\n",
              "        <matplotlib.axes._subplots.AxesSubplot object at 0x7f8d4f117410>],\n",
              "       [<matplotlib.axes._subplots.AxesSubplot object at 0x7f8d4f14ca10>,\n",
              "        <matplotlib.axes._subplots.AxesSubplot object at 0x7f8d4f103f90>,\n",
              "        <matplotlib.axes._subplots.AxesSubplot object at 0x7f8d4f0c65d0>,\n",
              "        <matplotlib.axes._subplots.AxesSubplot object at 0x7f8d4f07abd0>]],\n",
              "      dtype=object)"
            ]
          },
          "metadata": {},
          "execution_count": 8
        },
        {
          "output_type": "display_data",
          "data": {
            "text/plain": [
              "<Figure size 432x288 with 16 Axes>"
            ],
            "image/png": "[encoded data removed]"
          },
          "metadata": {
            "needs_background": "light"
          }
        }
      ]
    },
    {
      "cell_type": "code",
      "source": [
        "# There is a correlation between weight and wtyrago"
      ],
      "metadata": {
        "id": "UDdsfJHCCobm"
      },
      "id": "UDdsfJHCCobm",
      "execution_count": null,
      "outputs": []
    },
    {
      "cell_type": "code",
      "source": [
        "df['weight2'].hist(bins=100)"
      ],
      "metadata": {
        "colab": {
          "base_uri": "https://localhost:8080/",
          "height": 282
        },
        "id": "S_AddxlQCoZQ",
        "outputId": "f1dfa6e0-a59d-4df6-e322-063fb574a089"
      },
      "id": "S_AddxlQCoZQ",
      "execution_count": null,
      "outputs": [
        {
          "output_type": "execute_result",
          "data": {
            "text/plain": [
              "<matplotlib.axes._subplots.AxesSubplot at 0x7f8d4ee78250>"
            ]
          },
          "metadata": {},
          "execution_count": 10
        },
        {
          "output_type": "display_data",
          "data": {
            "text/plain": [
              "<Figure size 432x288 with 1 Axes>"
            ],
            "image/png": "[encoded data removed]"
          },
          "metadata": {
            "needs_background": "light"
          }
        }
      ]
    },
    {
      "cell_type": "code",
      "source": [
        "df['age'].hist(bins=25)"
      ],
      "metadata": {
        "colab": {
          "base_uri": "https://localhost:8080/",
          "height": 282
        },
        "id": "DqBGCeVFCoWi",
        "outputId": "9873f4a4-df31-4792-95da-f4b82ff28ea6"
      },
      "id": "DqBGCeVFCoWi",
      "execution_count": null,
      "outputs": [
        {
          "output_type": "execute_result",
          "data": {
            "text/plain": [
              "<matplotlib.axes._subplots.AxesSubplot at 0x7f8d4d180f10>"
            ]
          },
          "metadata": {},
          "execution_count": 11
        },
        {
          "output_type": "display_data",
          "data": {
            "text/plain": [
              "<Figure size 432x288 with 1 Axes>"
            ],
            "image/png": "[encoded data removed]"
          },
          "metadata": {
            "needs_background": "light"
          }
        }
      ]
    },
    {
      "cell_type": "markdown",
      "id": "d78c5e24-f317-4cad-a039-f014f53aacc7",
      "metadata": {
        "id": "d78c5e24-f317-4cad-a039-f014f53aacc7"
      },
      "source": [
        "## Question 4: Create a function cleanBRFSSFrame() to clean the dataset\n",
        "* Drop the sex from the dataframe\n",
        "* Drop the rows of NaN values (every single NaN)\n"
      ]
    },
    {
      "cell_type": "code",
      "execution_count": null,
      "id": "4ce9afad-f793-46f0-a72e-c361ff1cad5d",
      "metadata": {
        "id": "4ce9afad-f793-46f0-a72e-c361ff1cad5d"
      },
      "outputs": [],
      "source": [
        "# YOUR CODE HERE\n",
        "\n",
        "def cleanBRFSSFrame(dataframe):\n",
        "\n",
        "  dataframe=dataframe.drop('sex', axis=1)\n",
        "  dataframe=dataframe.dropna()\n",
        "\n",
        "  return dataframe\n",
        "\n",
        "df=cleanBRFSSFrame(df)\n",
        "\n",
        "\n"
      ]
    },
    {
      "cell_type": "code",
      "source": [
        "df.head()"
      ],
      "metadata": {
        "colab": {
          "base_uri": "https://localhost:8080/",
          "height": 206
        },
        "id": "9MJFunq7Utll",
        "outputId": "70d6646f-9f3a-45c2-f4c3-ebf2ad4fe5ee"
      },
      "id": "9MJFunq7Utll",
      "execution_count": null,
      "outputs": [
        {
          "output_type": "execute_result",
          "data": {
            "text/plain": [
              "    age     weight2     wtyrago   wtkg2   htm3\n",
              "0  39.0   88.636364   88.636364   88.64  180.0\n",
              "1  64.0   75.000000   84.545455   75.00  155.0\n",
              "3  51.0  100.000000  100.000000  100.00  183.0\n",
              "4  35.0   63.636364   61.363636   63.64  170.0\n",
              "5  62.0   70.454545   70.454545   70.45  173.0"
            ],
            "text/html": [
              "\n",
              "  <div id=\"df-9821fc21-2725-4399-b005-d2ff3ae52510\">\n",
              "    <div class=\"colab-df-container\">\n",
              "      <div>\n",
              "<style scoped>\n",
              "    .dataframe tbody tr th:only-of-type {\n",
              "        vertical-align: middle;\n",
              "    }\n",
              "\n",
              "    .dataframe tbody tr th {\n",
              "        vertical-align: top;\n",
              "    }\n",
              "\n",
              "    .dataframe thead th {\n",
              "        text-align: right;\n",
              "    }\n",
              "</style>\n",
              "<table border=\"1\" class=\"dataframe\">\n",
              "  <thead>\n",
              "    <tr style=\"text-align: right;\">\n",
              "      <th></th>\n",
              "      <th>age</th>\n",
              "      <th>weight2</th>\n",
              "      <th>wtyrago</th>\n",
              "      <th>wtkg2</th>\n",
              "      <th>htm3</th>\n",
              "    </tr>\n",
              "  </thead>\n",
              "  <tbody>\n",
              "    <tr>\n",
              "      <th>0</th>\n",
              "      <td>39.0</td>\n",
              "      <td>88.636364</td>\n",
              "      <td>88.636364</td>\n",
              "      <td>88.64</td>\n",
              "      <td>180.0</td>\n",
              "    </tr>\n",
              "    <tr>\n",
              "      <th>1</th>\n",
              "      <td>64.0</td>\n",
              "      <td>75.000000</td>\n",
              "      <td>84.545455</td>\n",
              "      <td>75.00</td>\n",
              "      <td>155.0</td>\n",
              "    </tr>\n",
              "    <tr>\n",
              "      <th>3</th>\n",
              "      <td>51.0</td>\n",
              "      <td>100.000000</td>\n",
              "      <td>100.000000</td>\n",
              "      <td>100.00</td>\n",
              "      <td>183.0</td>\n",
              "    </tr>\n",
              "    <tr>\n",
              "      <th>4</th>\n",
              "      <td>35.0</td>\n",
              "      <td>63.636364</td>\n",
              "      <td>61.363636</td>\n",
              "      <td>63.64</td>\n",
              "      <td>170.0</td>\n",
              "    </tr>\n",
              "    <tr>\n",
              "      <th>5</th>\n",
              "      <td>62.0</td>\n",
              "      <td>70.454545</td>\n",
              "      <td>70.454545</td>\n",
              "      <td>70.45</td>\n",
              "      <td>173.0</td>\n",
              "    </tr>\n",
              "  </tbody>\n",
              "</table>\n",
              "</div>\n",
              "      <button class=\"colab-df-convert\" onclick=\"convertToInteractive('df-9821fc21-2725-4399-b005-d2ff3ae52510')\"\n",
              "              title=\"Convert this dataframe to an interactive table.\"\n",
              "              style=\"display:none;\">\n",
              "        \n",
              "  <svg xmlns=\"http://www.w3.org/2000/svg\" height=\"24px\"viewBox=\"0 0 24 24\"\n",
              "       width=\"24px\">\n",
              "    <path d=\"M0 0h24v24H0V0z\" fill=\"none\"/>\n",
              "    <path d=\"M18.56 5.44l.94 2.06.94-2.06 2.06-.94-2.06-.94-.94-2.06-.94 2.06-2.06.94zm-11 1L8.5 8.5l.94-2.06 2.06-.94-2.06-.94L8.5 2.5l-.94 2.06-2.06.94zm10 10l.94 2.06.94-2.06 2.06-.94-2.06-.94-.94-2.06-.94 2.06-2.06.94z\"/><path d=\"M17.41 7.96l-1.37-1.37c-.4-.4-.92-.59-1.43-.59-.52 0-1.04.2-1.43.59L10.3 9.45l-7.72 7.72c-.78.78-.78 2.05 0 2.83L4 21.41c.39.39.9.59 1.41.59.51 0 1.02-.2 1.41-.59l7.78-7.78 2.81-2.81c.8-.78.8-2.07 0-2.86zM5.41 20L4 18.59l7.72-7.72 1.47 1.35L5.41 20z\"/>\n",
              "  </svg>\n",
              "      </button>\n",
              "      \n",
              "  <style>\n",
              "    .colab-df-container {\n",
              "      display:flex;\n",
              "      flex-wrap:wrap;\n",
              "      gap: 12px;\n",
              "    }\n",
              "\n",
              "    .colab-df-convert {\n",
              "      background-color: #E8F0FE;\n",
              "      border: none;\n",
              "      border-radius: 50%;\n",
              "      cursor: pointer;\n",
              "      display: none;\n",
              "      fill: #1967D2;\n",
              "      height: 32px;\n",
              "      padding: 0 0 0 0;\n",
              "      width: 32px;\n",
              "    }\n",
              "\n",
              "    .colab-df-convert:hover {\n",
              "      background-color: #E2EBFA;\n",
              "      box-shadow: 0px 1px 2px rgba(60, 64, 67, 0.3), 0px 1px 3px 1px rgba(60, 64, 67, 0.15);\n",
              "      fill: #174EA6;\n",
              "    }\n",
              "\n",
              "    [theme=dark] .colab-df-convert {\n",
              "      background-color: #3B4455;\n",
              "      fill: #D2E3FC;\n",
              "    }\n",
              "\n",
              "    [theme=dark] .colab-df-convert:hover {\n",
              "      background-color: #434B5C;\n",
              "      box-shadow: 0px 1px 3px 1px rgba(0, 0, 0, 0.15);\n",
              "      filter: drop-shadow(0px 1px 2px rgba(0, 0, 0, 0.3));\n",
              "      fill: #FFFFFF;\n",
              "    }\n",
              "  </style>\n",
              "\n",
              "      <script>\n",
              "        const buttonEl =\n",
              "          document.querySelector('#df-9821fc21-2725-4399-b005-d2ff3ae52510 button.colab-df-convert');\n",
              "        buttonEl.style.display =\n",
              "          google.colab.kernel.accessAllowed ? 'block' : 'none';\n",
              "\n",
              "        async function convertToInteractive(key) {\n",
              "          const element = document.querySelector('#df-9821fc21-2725-4399-b005-d2ff3ae52510');\n",
              "          const dataTable =\n",
              "            await google.colab.kernel.invokeFunction('convertToInteractive',\n",
              "                                                     [key], {});\n",
              "          if (!dataTable) return;\n",
              "\n",
              "          const docLinkHtml = 'Like what you see? Visit the ' +\n",
              "            '<a target=\"_blank\" href=https://colab.research.google.com/notebooks/data_table.ipynb>data table notebook</a>'\n",
              "            + ' to learn more about interactive tables.';\n",
              "          element.innerHTML = '';\n",
              "          dataTable['output_type'] = 'display_data';\n",
              "          await google.colab.output.renderOutput(dataTable, element);\n",
              "          const docLink = document.createElement('div');\n",
              "          docLink.innerHTML = docLinkHtml;\n",
              "          element.appendChild(docLink);\n",
              "        }\n",
              "      </script>\n",
              "    </div>\n",
              "  </div>\n",
              "  "
            ]
          },
          "metadata": {},
          "execution_count": 13
        }
      ]
    },
    {
      "cell_type": "markdown",
      "id": "1be01dc2-9112-408a-b1d1-66a5e0e54da6",
      "metadata": {
        "id": "1be01dc2-9112-408a-b1d1-66a5e0e54da6"
      },
      "source": [
        "## Question 5: Use describe() method to display the count, mean, std, min, and quantile data for column weight2. \n"
      ]
    },
    {
      "cell_type": "code",
      "execution_count": null,
      "id": "13736e78-cc0f-4a2b-b350-d93720efb3e9",
      "metadata": {
        "colab": {
          "base_uri": "https://localhost:8080/"
        },
        "id": "13736e78-cc0f-4a2b-b350-d93720efb3e9",
        "outputId": "1334b38e-3013-4e17-a1a5-382b0d9a49b7"
      },
      "outputs": [
        {
          "output_type": "execute_result",
          "data": {
            "text/plain": [
              "count    199124.000000\n",
              "mean         78.930941\n",
              "std          19.552248\n",
              "min          22.727273\n",
              "25%          64.545455\n",
              "50%          77.272727\n",
              "75%          90.909091\n",
              "max         300.000000\n",
              "Name: weight2, dtype: float64"
            ]
          },
          "metadata": {},
          "execution_count": 14
        }
      ],
      "source": [
        "# YOUR CODE HERE\n",
        "\n",
        "df['weight2'].describe()"
      ]
    },
    {
      "cell_type": "markdown",
      "id": "b24a94ba-3454-4995-a0ba-9eac81b0ce1a",
      "metadata": {
        "id": "b24a94ba-3454-4995-a0ba-9eac81b0ce1a"
      },
      "source": [
        "## Question 6: Find the median (median()) and mode (mode()) of the age."
      ]
    },
    {
      "cell_type": "code",
      "source": [
        "# YOUR CODE HERE\n",
        "df['age'].median()"
      ],
      "metadata": {
        "colab": {
          "base_uri": "https://localhost:8080/"
        },
        "id": "2oufLcfhQCXd",
        "outputId": "6ae5ae1c-d1cc-4b13-83bf-f4310f825b69"
      },
      "id": "2oufLcfhQCXd",
      "execution_count": null,
      "outputs": [
        {
          "output_type": "execute_result",
          "data": {
            "text/plain": [
              "55.0"
            ]
          },
          "metadata": {},
          "execution_count": 15
        }
      ]
    },
    {
      "cell_type": "code",
      "execution_count": null,
      "id": "0e298474-1c9f-4a1b-bdfb-1b7c2ec0e1e1",
      "metadata": {
        "colab": {
          "base_uri": "https://localhost:8080/"
        },
        "id": "0e298474-1c9f-4a1b-bdfb-1b7c2ec0e1e1",
        "outputId": "7cd668fb-97b6-44e6-878a-f32ed6d3ffc0"
      },
      "outputs": [
        {
          "output_type": "execute_result",
          "data": {
            "text/plain": [
              "0    60.0\n",
              "dtype: float64"
            ]
          },
          "metadata": {},
          "execution_count": 16
        }
      ],
      "source": [
        "# YOUR CODE HERE\n",
        "df['age'].mode()\n"
      ]
    },
    {
      "cell_type": "markdown",
      "id": "dac997be-64db-498d-9511-344fcdf3d69f",
      "metadata": {
        "id": "dac997be-64db-498d-9511-344fcdf3d69f"
      },
      "source": [
        "## Question 7: Use the min-max algorithm to re-scale the data. \n",
        "* (series – series.min())/(series.max() – series.min())"
      ]
    },
    {
      "cell_type": "code",
      "execution_count": null,
      "id": "7d197a1c-5a9f-462b-bd09-a30986b2d0c5",
      "metadata": {
        "id": "7d197a1c-5a9f-462b-bd09-a30986b2d0c5"
      },
      "outputs": [],
      "source": [
        "# YOUR CODE HERE\n",
        "\n",
        "def minmax(series):\n",
        "  return (series-series.min())/(series.max()- series.min())\n",
        "\n",
        "df_normalized=df.apply(minmax)"
      ]
    },
    {
      "cell_type": "code",
      "source": [
        "df_normalized.head()"
      ],
      "metadata": {
        "colab": {
          "base_uri": "https://localhost:8080/",
          "height": 206
        },
        "id": "haqorVyWSWWC",
        "outputId": "9edca878-2690-4c96-8c12-cc581ec614ed"
      },
      "id": "haqorVyWSWWC",
      "execution_count": null,
      "outputs": [
        {
          "output_type": "execute_result",
          "data": {
            "text/plain": [
              "        age   weight2   wtyrago     wtkg2      htm3\n",
              "0  0.259259  0.237705  0.233871  0.237711  0.708333\n",
              "1  0.567901  0.188525  0.219355  0.188517  0.559524\n",
              "3  0.407407  0.278689  0.274194  0.278681  0.726190\n",
              "4  0.209877  0.147541  0.137097  0.147546  0.648810\n",
              "5  0.543210  0.172131  0.169355  0.172107  0.666667"
            ],
            "text/html": [
              "\n",
              "  <div id=\"df-f244c597-b799-47de-b728-f746a34d63ed\">\n",
              "    <div class=\"colab-df-container\">\n",
              "      <div>\n",
              "<style scoped>\n",
              "    .dataframe tbody tr th:only-of-type {\n",
              "        vertical-align: middle;\n",
              "    }\n",
              "\n",
              "    .dataframe tbody tr th {\n",
              "        vertical-align: top;\n",
              "    }\n",
              "\n",
              "    .dataframe thead th {\n",
              "        text-align: right;\n",
              "    }\n",
              "</style>\n",
              "<table border=\"1\" class=\"dataframe\">\n",
              "  <thead>\n",
              "    <tr style=\"text-align: right;\">\n",
              "      <th></th>\n",
              "      <th>age</th>\n",
              "      <th>weight2</th>\n",
              "      <th>wtyrago</th>\n",
              "      <th>wtkg2</th>\n",
              "      <th>htm3</th>\n",
              "    </tr>\n",
              "  </thead>\n",
              "  <tbody>\n",
              "    <tr>\n",
              "      <th>0</th>\n",
              "      <td>0.259259</td>\n",
              "      <td>0.237705</td>\n",
              "      <td>0.233871</td>\n",
              "      <td>0.237711</td>\n",
              "      <td>0.708333</td>\n",
              "    </tr>\n",
              "    <tr>\n",
              "      <th>1</th>\n",
              "      <td>0.567901</td>\n",
              "      <td>0.188525</td>\n",
              "      <td>0.219355</td>\n",
              "      <td>0.188517</td>\n",
              "      <td>0.559524</td>\n",
              "    </tr>\n",
              "    <tr>\n",
              "      <th>3</th>\n",
              "      <td>0.407407</td>\n",
              "      <td>0.278689</td>\n",
              "      <td>0.274194</td>\n",
              "      <td>0.278681</td>\n",
              "      <td>0.726190</td>\n",
              "    </tr>\n",
              "    <tr>\n",
              "      <th>4</th>\n",
              "      <td>0.209877</td>\n",
              "      <td>0.147541</td>\n",
              "      <td>0.137097</td>\n",
              "      <td>0.147546</td>\n",
              "      <td>0.648810</td>\n",
              "    </tr>\n",
              "    <tr>\n",
              "      <th>5</th>\n",
              "      <td>0.543210</td>\n",
              "      <td>0.172131</td>\n",
              "      <td>0.169355</td>\n",
              "      <td>0.172107</td>\n",
              "      <td>0.666667</td>\n",
              "    </tr>\n",
              "  </tbody>\n",
              "</table>\n",
              "</div>\n",
              "      <button class=\"colab-df-convert\" onclick=\"convertToInteractive('df-f244c597-b799-47de-b728-f746a34d63ed')\"\n",
              "              title=\"Convert this dataframe to an interactive table.\"\n",
              "              style=\"display:none;\">\n",
              "        \n",
              "  <svg xmlns=\"http://www.w3.org/2000/svg\" height=\"24px\"viewBox=\"0 0 24 24\"\n",
              "       width=\"24px\">\n",
              "    <path d=\"M0 0h24v24H0V0z\" fill=\"none\"/>\n",
              "    <path d=\"M18.56 5.44l.94 2.06.94-2.06 2.06-.94-2.06-.94-.94-2.06-.94 2.06-2.06.94zm-11 1L8.5 8.5l.94-2.06 2.06-.94-2.06-.94L8.5 2.5l-.94 2.06-2.06.94zm10 10l.94 2.06.94-2.06 2.06-.94-2.06-.94-.94-2.06-.94 2.06-2.06.94z\"/><path d=\"M17.41 7.96l-1.37-1.37c-.4-.4-.92-.59-1.43-.59-.52 0-1.04.2-1.43.59L10.3 9.45l-7.72 7.72c-.78.78-.78 2.05 0 2.83L4 21.41c.39.39.9.59 1.41.59.51 0 1.02-.2 1.41-.59l7.78-7.78 2.81-2.81c.8-.78.8-2.07 0-2.86zM5.41 20L4 18.59l7.72-7.72 1.47 1.35L5.41 20z\"/>\n",
              "  </svg>\n",
              "      </button>\n",
              "      \n",
              "  <style>\n",
              "    .colab-df-container {\n",
              "      display:flex;\n",
              "      flex-wrap:wrap;\n",
              "      gap: 12px;\n",
              "    }\n",
              "\n",
              "    .colab-df-convert {\n",
              "      background-color: #E8F0FE;\n",
              "      border: none;\n",
              "      border-radius: 50%;\n",
              "      cursor: pointer;\n",
              "      display: none;\n",
              "      fill: #1967D2;\n",
              "      height: 32px;\n",
              "      padding: 0 0 0 0;\n",
              "      width: 32px;\n",
              "    }\n",
              "\n",
              "    .colab-df-convert:hover {\n",
              "      background-color: #E2EBFA;\n",
              "      box-shadow: 0px 1px 2px rgba(60, 64, 67, 0.3), 0px 1px 3px 1px rgba(60, 64, 67, 0.15);\n",
              "      fill: #174EA6;\n",
              "    }\n",
              "\n",
              "    [theme=dark] .colab-df-convert {\n",
              "      background-color: #3B4455;\n",
              "      fill: #D2E3FC;\n",
              "    }\n",
              "\n",
              "    [theme=dark] .colab-df-convert:hover {\n",
              "      background-color: #434B5C;\n",
              "      box-shadow: 0px 1px 3px 1px rgba(0, 0, 0, 0.15);\n",
              "      filter: drop-shadow(0px 1px 2px rgba(0, 0, 0, 0.3));\n",
              "      fill: #FFFFFF;\n",
              "    }\n",
              "  </style>\n",
              "\n",
              "      <script>\n",
              "        const buttonEl =\n",
              "          document.querySelector('#df-f244c597-b799-47de-b728-f746a34d63ed button.colab-df-convert');\n",
              "        buttonEl.style.display =\n",
              "          google.colab.kernel.accessAllowed ? 'block' : 'none';\n",
              "\n",
              "        async function convertToInteractive(key) {\n",
              "          const element = document.querySelector('#df-f244c597-b799-47de-b728-f746a34d63ed');\n",
              "          const dataTable =\n",
              "            await google.colab.kernel.invokeFunction('convertToInteractive',\n",
              "                                                     [key], {});\n",
              "          if (!dataTable) return;\n",
              "\n",
              "          const docLinkHtml = 'Like what you see? Visit the ' +\n",
              "            '<a target=\"_blank\" href=https://colab.research.google.com/notebooks/data_table.ipynb>data table notebook</a>'\n",
              "            + ' to learn more about interactive tables.';\n",
              "          element.innerHTML = '';\n",
              "          dataTable['output_type'] = 'display_data';\n",
              "          await google.colab.output.renderOutput(dataTable, element);\n",
              "          const docLink = document.createElement('div');\n",
              "          docLink.innerHTML = docLinkHtml;\n",
              "          element.appendChild(docLink);\n",
              "        }\n",
              "      </script>\n",
              "    </div>\n",
              "  </div>\n",
              "  "
            ]
          },
          "metadata": {},
          "execution_count": 18
        }
      ]
    },
    {
      "cell_type": "markdown",
      "id": "c8601353-79f6-412d-b80b-2695adbfa85f",
      "metadata": {
        "id": "c8601353-79f6-412d-b80b-2695adbfa85f"
      },
      "source": [
        "## Question 8: Create a boxplot (DataFrame.boxplot()) of the dataset.\n"
      ]
    },
    {
      "cell_type": "code",
      "execution_count": null,
      "id": "63e79d3f-c6b8-4c8f-9e7b-20d86b6c5437",
      "metadata": {
        "colab": {
          "base_uri": "https://localhost:8080/",
          "height": 282
        },
        "id": "63e79d3f-c6b8-4c8f-9e7b-20d86b6c5437",
        "outputId": "21c5b6f1-b0f4-4474-d7b3-693814ed6bce"
      },
      "outputs": [
        {
          "output_type": "execute_result",
          "data": {
            "text/plain": [
              "<matplotlib.axes._subplots.AxesSubplot at 0x7f8d4cfaf7d0>"
            ]
          },
          "metadata": {},
          "execution_count": 19
        },
        {
          "output_type": "display_data",
          "data": {
            "text/plain": [
              "<Figure size 432x288 with 1 Axes>"
            ],
            "image/png": "[encoded data removed]"
          },
          "metadata": {
            "needs_background": "light"
          }
        }
      ],
      "source": [
        "# YOUR CODE HERE\n",
        "df_normalized.boxplot()"
      ]
    },
    {
      "cell_type": "markdown",
      "id": "a2b5b58f-5ec3-401a-8d7b-14266fb805dc",
      "metadata": {
        "id": "a2b5b58f-5ec3-401a-8d7b-14266fb805dc"
      },
      "source": [
        "## Question 9: Interpret the visualizations of Questions 3 and 8."
      ]
    },
    {
      "cell_type": "code",
      "execution_count": null,
      "id": "7ed3343c-1bd9-463a-8306-758329e7e039",
      "metadata": {
        "id": "7ed3343c-1bd9-463a-8306-758329e7e039"
      },
      "outputs": [],
      "source": [
        "# YOUR ANSWER HERE (interpretation)\n",
        "\n",
        "# It seems there is a normal distribution of age for subjects, with most subjects btween 50 and 60\n",
        "# In the scatter matrix we can observe there might be a corelaction between weight and weigth a year ago\n",
        "# Suprisingly the height weight correlation is not as noticeable, but ther might be some correlation\n",
        "# We can see in the boxplot we have a lot of outliers of overweight subjects, outside of the inner and outter fence\n",
        "# For height the outliers are more equally devided into underheight and overheight subjects"
      ]
    }
  ],
  "metadata": {
    "kernelspec": {
      "display_name": "Python 3 (ipykernel)",
      "language": "python",
      "name": "python3"
    },
    "language_info": {
      "codemirror_mode": {
        "name": "ipython",
        "version": 3
      },
      "file_extension": ".py",
      "mimetype": "text/x-python",
      "name": "python",
      "nbconvert_exporter": "python",
      "pygments_lexer": "ipython3",
      "version": "3.7.11"
    },
    "colab": {
      "name": "AI- Lab2.ipynb",
      "provenance": []
    }
  },
  "nbformat": 4,
  "nbformat_minor": 5
}